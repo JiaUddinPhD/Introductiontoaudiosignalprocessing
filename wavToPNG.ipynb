{
  "nbformat": 4,
  "nbformat_minor": 0,
  "metadata": {
    "colab": {
      "name": "Copy of wavToPNG.ipynb",
      "provenance": [],
      "collapsed_sections": []
    },
    "kernelspec": {
      "name": "python3",
      "display_name": "Python 3"
    }
  },
  "cells": [
    {
      "cell_type": "code",
      "metadata": {
        "colab": {
          "base_uri": "https://localhost:8080/"
        },
        "id": "bQgldiJQJ0CB",
        "outputId": "4814e26b-fd48-411c-83ba-350cf6985b18"
      },
      "source": [
        "from google.colab import drive\n",
        "drive.mount('/content/drive')"
      ],
      "execution_count": null,
      "outputs": [
        {
          "output_type": "stream",
          "text": [
            "Drive already mounted at /content/drive; to attempt to forcibly remount, call drive.mount(\"/content/drive\", force_remount=True).\n"
          ],
          "name": "stdout"
        }
      ]
    },
    {
      "cell_type": "code",
      "metadata": {
        "id": "flkvxqRUJx-Q"
      },
      "source": [
        "import soundfile as sf\n",
        "from glob import glob\n",
        "import os\n",
        "import numpy as np\n",
        "from PIL import Image as im "
      ],
      "execution_count": null,
      "outputs": []
    },
    {
      "cell_type": "code",
      "metadata": {
        "id": "jRxdCIoIJz96"
      },
      "source": [
        "#data_dir = './drive/MyDrive/Colab Notebooks/audio signals/'\n",
        "data_dir = '/content/drive/MyDrive/Colab Notebooks/audio signals/'\n",
        "# Copy_to_path = '/content/drive/MyDrive/audioFiles/img/im'\n",
        "wav_files = glob(data_dir + '*wav')"
      ],
      "execution_count": null,
      "outputs": []
    },
    {
      "cell_type": "code",
      "metadata": {
        "colab": {
          "base_uri": "https://localhost:8080/"
        },
        "id": "j4VVo8qcJz_z",
        "outputId": "d4464a0a-ca35-42ab-e876-6f9c3c95eff9"
      },
      "source": [
        "path, dirs, files = next(os.walk(data_dir))\n",
        "file_count = len(files)\n",
        "print(file_count)"
      ],
      "execution_count": null,
      "outputs": [
        {
          "output_type": "stream",
          "text": [
            "9\n"
          ],
          "name": "stdout"
        }
      ]
    },
    {
      "cell_type": "code",
      "metadata": {
        "colab": {
          "base_uri": "https://localhost:8080/",
          "height": 35
        },
        "id": "az8lkyKpCIXZ",
        "outputId": "95405873-c7f2-4e66-8788-82b837a4130b"
      },
      "source": [
        "wav_files[0]"
      ],
      "execution_count": null,
      "outputs": [
        {
          "output_type": "execute_result",
          "data": {
            "application/vnd.google.colaboratory.intrinsic+json": {
              "type": "string"
            },
            "text/plain": [
              "'/content/drive/MyDrive/Colab Notebooks/audio signals/bearing_fault(500rpm)+angular_miss_xaxis_9.wav'"
            ]
          },
          "metadata": {
            "tags": []
          },
          "execution_count": 32
        }
      ]
    },
    {
      "cell_type": "code",
      "metadata": {
        "id": "9lly79gNJ0Jd"
      },
      "source": [
        "data = np.zeros(shape=(file_count, 1024))\n",
        "fs = ['none'] * file_count\n",
        "reshapedData = np.zeros(shape=(file_count, 32, 32))\n",
        "#data, fs = sf.read(wav_files[0])"
      ],
      "execution_count": null,
      "outputs": []
    },
    {
      "cell_type": "code",
      "metadata": {
        "id": "-sByOdkXJ0El"
      },
      "source": [
        "for i in range(file_count):\n",
        "  data[i], fs[i] = sf.read(wav_files[i])\n",
        "  reshapedData[i] = np.reshape(data[i], (32,32))"
      ],
      "execution_count": null,
      "outputs": []
    },
    {
      "cell_type": "code",
      "metadata": {
        "colab": {
          "base_uri": "https://localhost:8080/"
        },
        "id": "A2B7wJOjJ0Lm",
        "outputId": "f8d11c09-ec00-4fce-85b7-85083eb3a5bb"
      },
      "source": [
        "reshapedData.shape"
      ],
      "execution_count": null,
      "outputs": [
        {
          "output_type": "execute_result",
          "data": {
            "text/plain": [
              "(4, 32, 32)"
            ]
          },
          "metadata": {
            "tags": []
          },
          "execution_count": 9
        }
      ]
    },
    {
      "cell_type": "code",
      "metadata": {
        "id": "wTVFUXnuIivV"
      },
      "source": [
        "!mkdir img"
      ],
      "execution_count": null,
      "outputs": []
    },
    {
      "cell_type": "code",
      "metadata": {
        "id": "65MTHphaJ0Nt"
      },
      "source": [
        "# reshapedData[1] = im.fromarray(reshapedData[1])\n",
        "for i in range(file_count):\n",
        "  rd = im.fromarray(reshapedData[i])\n",
        "  rd = rd.convert(\"L\")\n",
        "  rd.save('img/'+ str(i) + \".png\")\n",
        "!cp -r /content/img/ /content/drive/MyDrive/Colab\\ Notebooks/audiosignals"
      ],
      "execution_count": null,
      "outputs": []
    }
  ]
}