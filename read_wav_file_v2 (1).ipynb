{
  "nbformat": 4,
  "nbformat_minor": 0,
  "metadata": {
    "colab": {
      "name": "read wav file v2.ipynb",
      "provenance": [],
      "collapsed_sections": []
    },
    "kernelspec": {
      "name": "python3",
      "display_name": "Python 3"
    }
  },
  "cells": [
    {
      "cell_type": "code",
      "metadata": {
        "id": "c8rVkGLDIgNE"
      },
      "source": [
        "import soundfile as sf\n",
        "from glob import glob\n",
        "import os\n",
        "import numpy as np\n"
      ],
      "execution_count": null,
      "outputs": []
    },
    {
      "cell_type": "code",
      "metadata": {
        "id": "Zoh5UMXgIlVg"
      },
      "source": [
        "data_dir = './drive/MyDrive/Colab Notebooks/audio signals/'\n",
        "wav_files = glob(data_dir + '/*wav')"
      ],
      "execution_count": null,
      "outputs": []
    },
    {
      "cell_type": "code",
      "metadata": {
        "id": "0_bCPVSUKLMz"
      },
      "source": [
        "path, dirs, files = next(os.walk(data_dir))\n",
        "file_count = len(files)\n",
        "print(file_count)"
      ],
      "execution_count": null,
      "outputs": []
    },
    {
      "cell_type": "code",
      "metadata": {
        "colab": {
          "base_uri": "https://localhost:8080/"
        },
        "id": "3dbBwcYy2IuO",
        "outputId": "791985fb-0254-4eea-82ed-b926a0065d36"
      },
      "source": [
        "from google.colab import drive\n",
        "drive.mount('/content/drive')"
      ],
      "execution_count": null,
      "outputs": [
        {
          "output_type": "stream",
          "text": [
            "Mounted at /content/drive\n"
          ],
          "name": "stdout"
        }
      ]
    },
    {
      "cell_type": "code",
      "metadata": {
        "id": "gDBmPrjzLrx4"
      },
      "source": [
        "data = ['none'] * file_count\n",
        "fs = ['none'] * file_count\n",
        "#data, fs = sf.read(wav_files[0])"
      ],
      "execution_count": null,
      "outputs": []
    },
    {
      "cell_type": "code",
      "metadata": {
        "id": "1vOSLPUsIlXt"
      },
      "source": [
        "for i in range(file_count):\n",
        "  data[i], fs[i] = sf.read(wav_files[i])"
      ],
      "execution_count": null,
      "outputs": []
    },
    {
      "cell_type": "code",
      "metadata": {
        "colab": {
          "base_uri": "https://localhost:8080/"
        },
        "id": "ykfklJMRIlZ7",
        "outputId": "c856913e-00cd-4f27-d5a5-01829c807265"
      },
      "source": [
        "print(data)\n",
        "print(\"----------------\")\n",
        "print(data[0])\n",
        "print(fs[0])\n",
        "print(\"----------------\")\n",
        "print(data[1])\n",
        "print(fs[1])"
      ],
      "execution_count": null,
      "outputs": [
        {
          "output_type": "stream",
          "text": [
            "[array([0.87322998, 0.84890747, 0.91934204, ..., 0.89373779, 0.85403442,\n",
            "       0.8873291 ]), array([0.91036987, 0.85531616, 0.8706665 , ..., 0.86428833, 0.87579346,\n",
            "       0.87322998]), array([0.85403442, 0.82971191, 0.86685181, ..., 0.88989258, 0.80154419,\n",
            "       0.92318726]), array([0.82202148, 0.93725586, 0.79898071, ..., 0.8399353 , 0.90396118,\n",
            "       0.90267944]), array([0.81048584, 0.90652466, 0.8053894 , ..., 0.92190552, 0.81176758,\n",
            "       0.92318726]), array([0.88861084, 0.8706665 , 0.79641724, ..., 0.92190552, 0.81433105,\n",
            "       0.92318726]), array([0.85787964, 0.86300659, 0.84634399, ..., 0.88861084, 0.81561279,\n",
            "       0.93725586]), array([0.86044312, 0.86938477, 0.8092041 , ..., 0.85403442, 0.86044312,\n",
            "       0.88989258]), array([0.88861084, 0.84506226, 0.88476562, ..., 0.86300659, 0.89373779,\n",
            "       0.81176758])]\n",
            "----------------\n",
            "[0.87322998 0.84890747 0.91934204 ... 0.89373779 0.85403442 0.8873291 ]\n",
            "1024\n",
            "----------------\n",
            "[0.91036987 0.85531616 0.8706665  ... 0.86428833 0.87579346 0.87322998]\n",
            "1024\n"
          ],
          "name": "stdout"
        }
      ]
    }
  ]
}